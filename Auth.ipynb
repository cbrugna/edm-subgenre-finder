{
 "cells": [
  {
   "cell_type": "code",
   "execution_count": 1,
   "metadata": {},
   "outputs": [
    {
     "name": "stdout",
     "output_type": "stream",
     "text": [
      "Requirement already satisfied: requests in /Users/caseybrugna/opt/anaconda3/lib/python3.8/site-packages (2.27.1)\n",
      "Requirement already satisfied: urllib3<1.27,>=1.21.1 in /Users/caseybrugna/opt/anaconda3/lib/python3.8/site-packages (from requests) (1.26.9)\n",
      "Requirement already satisfied: charset-normalizer~=2.0.0; python_version >= \"3\" in /Users/caseybrugna/opt/anaconda3/lib/python3.8/site-packages (from requests) (2.0.12)\n",
      "Requirement already satisfied: idna<4,>=2.5; python_version >= \"3\" in /Users/caseybrugna/opt/anaconda3/lib/python3.8/site-packages (from requests) (2.10)\n",
      "Requirement already satisfied: certifi>=2017.4.17 in /Users/caseybrugna/opt/anaconda3/lib/python3.8/site-packages (from requests) (2020.6.20)\n"
     ]
    }
   ],
   "source": [
    "!pip install requests\n",
    "import base64\n",
    "import requests\n",
    "import datetime"
   ]
  },
  {
   "cell_type": "code",
   "execution_count": 2,
   "metadata": {},
   "outputs": [],
   "source": [
    "client_id= '05ce8da1369f40afa35d5d8a0c88aec7'\n",
    "client_secret = '07c34a7c3bf348fbad425f2c9a57b81b'"
   ]
  },
  {
   "cell_type": "code",
   "execution_count": 3,
   "metadata": {
    "scrolled": false
   },
   "outputs": [],
   "source": [
    "client_creds = f\"{client_id}:{client_secret}\"\n",
    "client_creds_b64 = base64.b64encode(client_creds.encode())"
   ]
  },
  {
   "cell_type": "code",
   "execution_count": 4,
   "metadata": {},
   "outputs": [],
   "source": [
    "# do a lookup for a token (for future requests)\n",
    "token_url = \"https://accounts.spotify.com/api/token\"\n",
    "method = \"POST\"\n",
    "token_data = {\n",
    "    \"grant_type\": \"client_credentials\"\n",
    "}\n",
    "token_headers = {\n",
    "    \"Authorization\": f\"Basic {client_creds_b64.decode()}\"\n",
    "}"
   ]
  },
  {
   "cell_type": "code",
   "execution_count": 9,
   "metadata": {},
   "outputs": [],
   "source": [
    "r = requests.post(token_url, data=token_data, headers=token_headers)\n",
    "valid_request = r.status_code in range (200, 299)"
   ]
  },
  {
   "cell_type": "code",
   "execution_count": 10,
   "metadata": {},
   "outputs": [],
   "source": [
    "if valid_request:\n",
    "    token_response_data = r.json()\n",
    "    now = datetime.datetime.now()\n",
    "    access_token = token_response_data['access_token']\n",
    "    expires_in = token_response_data['expires_in']\n",
    "    expires = now + datetime.timedelta(seconds=expires_in)\n",
    "    did_expire = expires < now"
   ]
  }
 ],
 "metadata": {
  "kernelspec": {
   "display_name": "Python 3",
   "language": "python",
   "name": "python3"
  },
  "language_info": {
   "codemirror_mode": {
    "name": "ipython",
    "version": 3
   },
   "file_extension": ".py",
   "mimetype": "text/x-python",
   "name": "python",
   "nbconvert_exporter": "python",
   "pygments_lexer": "ipython3",
   "version": "3.8.5"
  }
 },
 "nbformat": 4,
 "nbformat_minor": 4
}
